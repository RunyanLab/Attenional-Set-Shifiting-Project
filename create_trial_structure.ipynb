{
 "cells": [
  {
   "cell_type": "code",
   "execution_count": 87,
   "id": "64754bea",
   "metadata": {},
   "outputs": [],
   "source": [
    "from wfield import *\n",
    "import os \n",
    "import h5py\n",
    "import pandas as pd\n",
    "from scipy.io import loadmat\n",
    "from scipy.signal import savgol_filter"
   ]
  },
  {
   "cell_type": "code",
   "execution_count": 115,
   "id": "20df946a",
   "metadata": {},
   "outputs": [
    {
     "name": "stdout",
     "output_type": "stream",
     "text": [
      "D:/Behavior/Animals/FV-4/SD/12-Jul-2022/sync\n"
     ]
    }
   ],
   "source": [
    "directory = \"D:/Behavior/Animals/\"\n",
    "animal = \"FV-4/\"\n",
    "maze = \"SD/\"\n",
    "session = \"12-Jul-2022/\"\n",
    "file = \"{}/\"\n",
    "sync = \"sync\"\n",
    "path_sync = os.path.join(directory, animal, maze, session, sync)\n",
    "os.chdir(path_sync)\n",
    "print(path_sync)"
   ]
  },
  {
   "cell_type": "code",
   "execution_count": 116,
   "id": "52df12c0",
   "metadata": {},
   "outputs": [
    {
     "name": "stdout",
     "output_type": "stream",
     "text": [
      "Keys: <KeysViewHDF5 ['header', 'sweep_0001']>\n",
      "<class 'h5py._hl.group.Group'>\n"
     ]
    }
   ],
   "source": [
    "filename = \"FV_4_SD_2022-07-12_0001.h5\"\n",
    "h5 = h5py.File(filename,'r')\n",
    "\n",
    "#extract data from h5 file for visualization\n",
    "with h5py.File(filename, \"r\") as f:\n",
    "    # Print all root level object names (aka keys) \n",
    "    # these can be group or dataset names \n",
    "    print(\"Keys: %s\" % f.keys())\n",
    "    # get first object name/key; may or may NOT be a group\n",
    "    a_group_key = str(list(f.keys())[1])\n",
    "    \n",
    "    # get the object type for a_group_key: usually group or dataset\n",
    "    print(type(f[a_group_key])) \n",
    "\n",
    "    # If a_group_key is a group name, \n",
    "    # this gets the object names in the group and returns as a list\n",
    "    data = list(f[a_group_key])\n",
    "\n",
    "    # If a_group_key is a dataset name, \n",
    "    # this gets the dataset values and returns as a list\n",
    "    data = list(f[a_group_key])\n",
    "    # preferred methods to get dataset values:\n",
    "    ds_obj = f[a_group_key]      # returns as a h5py dataset object\n",
    "    ds_analog = f[a_group_key][data[0]][()]  # returns as a numpy array\n",
    "    ds_digital = f[a_group_key][data[1]][()]\n",
    "    ds_time = f[a_group_key][data[2]][()]"
   ]
  },
  {
   "cell_type": "code",
   "execution_count": 117,
   "id": "f01140da",
   "metadata": {},
   "outputs": [],
   "source": [
    "#load mat files with trial start times (in wav units) \n",
    "\n",
    "imaging_spk = loadmat('imaging_spk.mat')\n",
    "times = loadmat('times.mat')\n",
    "correct = loadmat('correct.mat')"
   ]
  },
  {
   "cell_type": "code",
   "execution_count": 118,
   "id": "076e9a43",
   "metadata": {},
   "outputs": [],
   "source": [
    "#extract start and end iterations for each trial \n",
    "\n",
    "mat = loadmat('imaging_spk.mat') # insert your filename here\n",
    "mat_load = [[element for element in upperElement] for upperElement in mat['imaging_spk']] # insert your fieldname here\n",
    "\n",
    "Start_it = []\n",
    "End_it = []\n",
    "num_trials = 272 #figure out a way to not have to hard code this \n",
    "for i in list(range(num_trials)):\n",
    "    trial = mat_load[0][i]\n",
    "    start_it = trial[0][0][0]\n",
    "    Start_it.append(start_it)\n",
    "    end_it = trial[1][0][0]\n",
    "    End_it.append(end_it)"
   ]
  },
  {
   "cell_type": "code",
   "execution_count": 119,
   "id": "4042d9d5",
   "metadata": {},
   "outputs": [],
   "source": [
    "#extract correct/incorrect info \n",
    "\n",
    "mat = loadmat('correct.mat') # insert your filename here\n",
    "mat_load = [[element for element in upperElement] for upperElement in mat['correct']] # insert your fieldname here\n",
    "correct_val = [] #array with the correct/incorrect info \n",
    "num_trials = 275 #figure out a way to not have to hard code this \n",
    "for i in list(range(num_trials)):\n",
    "    correct_val.append(mat_load[i][0][0][0])"
   ]
  },
  {
   "cell_type": "code",
   "execution_count": 120,
   "id": "291ba404",
   "metadata": {},
   "outputs": [],
   "source": [
    "#extract start and end wav time points \n",
    "\n",
    "mat = loadmat('times.mat') # insert your filename here\n",
    "mat_load = [[element for element in upperElement] for upperElement in mat['times']] # insert your fieldname here\n",
    "\n",
    "wav_start_points = []\n",
    "for i in Start_it[:250]: #will make this for all trials once Noelle fixes bug in extraction code \n",
    "    wav_start = mat_load[i][0]\n",
    "    wav_start_points.append(wav_start)\n",
    "\n",
    "wav_end_points = []\n",
    "for i in End_it[:250]: #will make this for all trials once Noelle fixes bug in extraction code \n",
    "    wav_end = mat_load[i][0]\n",
    "    wav_end_points.append(wav_end)"
   ]
  },
  {
   "cell_type": "code",
   "execution_count": 121,
   "id": "b16658ee",
   "metadata": {},
   "outputs": [],
   "source": [
    "#find when imaging started \n",
    "a = ds_digital[0][:]\n",
    "#img_start = np.where(a==1)[0][0] #start of imaging \n",
    "start_stop_wav_points = np.where(np.diff(a) >= 1)[0] #values of imaging start and stop points "
   ]
  },
  {
   "cell_type": "code",
   "execution_count": 122,
   "id": "4485ca9d",
   "metadata": {},
   "outputs": [],
   "source": [
    "#get image start times (in wav)\n",
    "img_start = start_stop_wav_points[::2]\n",
    "img_end = start_stop_wav_points[1::2]\n",
    "#img_start = img_start[0]"
   ]
  },
  {
   "cell_type": "code",
   "execution_count": 123,
   "id": "251660a5",
   "metadata": {},
   "outputs": [],
   "source": [
    "last_trial_insession =[]\n",
    "for i in list(range(8)):\n",
    "    vals = np.where(wav_end_points < img_end[i])[0]\n",
    "    last_trial_insession.append(vals[-1])"
   ]
  },
  {
   "cell_type": "code",
   "execution_count": 124,
   "id": "1ac299bd",
   "metadata": {},
   "outputs": [],
   "source": [
    "def wav_point(trial):\n",
    "    start = wav_start_points[trial]\n",
    "    end = wav_end_points[trial]\n",
    "    return start, end\n",
    "\n",
    "def frames_from_wav(start,end,img_start):\n",
    "    length_from_img_start_to_startoftrial = (start - img_start)/10000\n",
    "    length_from_img_start_to_endoftrial = (end- img_start)/10000\n",
    "    start_int = int(length_from_img_start_to_startoftrial*30)\n",
    "    end_int = int(length_from_img_start_to_endoftrial*30)\n",
    "    return start_int, end_int"
   ]
  },
  {
   "cell_type": "code",
   "execution_count": 125,
   "id": "8f062f44",
   "metadata": {},
   "outputs": [],
   "source": [
    "def extract_times(img_session):\n",
    "    path = os.path.join(directory, animal, maze, session, file.format(img_session+1))\n",
    "    os.chdir(path)\n",
    "    print(path)\n",
    "    if img_session == 0: \n",
    "        trial_in_img_session = list(range(last_trial_insession[0]))\n",
    "    elif img_session > 0:\n",
    "        x = last_trial_insession[img_session]\n",
    "        y = last_trial_insession[img_session-1]\n",
    "        trial_in_img_session = list(range(y,x))\n",
    "    \n",
    "    start_frames = []\n",
    "    end_frames = []\n",
    "\n",
    "    for trial in trial_in_img_session:\n",
    "        start_frame = frames_from_wav(wav_point(trial)[0],wav_point(trial)[1], img_start[img_session])[0]\n",
    "        end_frame = frames_from_wav(wav_point(trial)[0],wav_point(trial)[1], img_start[img_session])[1]\n",
    "        start_frames.append(start_frame)\n",
    "        end_frames.append(end_frame)\n",
    "    df = pd.DataFrame(trial_in_img_session, columns=['trial'])\n",
    "    df['trial'] = df['trial']+1\n",
    "    df['img session'] = img_session+1\n",
    "    df['start frame'] = start_frames\n",
    "    df['end frame'] = end_frames \n",
    "    return df"
   ]
  },
  {
   "cell_type": "code",
   "execution_count": 126,
   "id": "feb31850",
   "metadata": {},
   "outputs": [
    {
     "name": "stdout",
     "output_type": "stream",
     "text": [
      "D:/Behavior/Animals/FV-4/SD/12-Jul-2022/1/\n",
      "D:/Behavior/Animals/FV-4/SD/12-Jul-2022/2/\n",
      "D:/Behavior/Animals/FV-4/SD/12-Jul-2022/3/\n",
      "D:/Behavior/Animals/FV-4/SD/12-Jul-2022/4/\n",
      "D:/Behavior/Animals/FV-4/SD/12-Jul-2022/5/\n",
      "D:/Behavior/Animals/FV-4/SD/12-Jul-2022/6/\n",
      "D:/Behavior/Animals/FV-4/SD/12-Jul-2022/7/\n",
      "D:/Behavior/Animals/FV-4/SD/12-Jul-2022/8/\n"
     ]
    }
   ],
   "source": [
    "All_data = pd.concat([extract_times(0),\n",
    "           extract_times(1),\n",
    "           extract_times(2),\n",
    "           extract_times(3),\n",
    "           extract_times(4),\n",
    "           extract_times(5),\n",
    "           extract_times(6),\n",
    "           extract_times(7)\n",
    "            ])"
   ]
  },
  {
   "cell_type": "code",
   "execution_count": 127,
   "id": "8b87b926",
   "metadata": {},
   "outputs": [],
   "source": [
    "All_data['correct'] = correct_val[:len(All_data.index)]"
   ]
  },
  {
   "cell_type": "code",
   "execution_count": 128,
   "id": "de7789ca",
   "metadata": {},
   "outputs": [
    {
     "name": "stdout",
     "output_type": "stream",
     "text": [
      "D:/Behavior/Animals/FV-4/SD/12-Jul-2022/sync\n"
     ]
    }
   ],
   "source": [
    "path_sync = os.path.join(directory, animal, maze, session, sync)\n",
    "os.chdir(path_sync)\n",
    "print(path_sync)\n",
    "\n",
    "All_data\n",
    "All_data.to_csv(\"All_data.csv\")"
   ]
  },
  {
   "cell_type": "code",
   "execution_count": 114,
   "id": "942ec955",
   "metadata": {},
   "outputs": [
    {
     "data": {
      "text/html": [
       "<div>\n",
       "<style scoped>\n",
       "    .dataframe tbody tr th:only-of-type {\n",
       "        vertical-align: middle;\n",
       "    }\n",
       "\n",
       "    .dataframe tbody tr th {\n",
       "        vertical-align: top;\n",
       "    }\n",
       "\n",
       "    .dataframe thead th {\n",
       "        text-align: right;\n",
       "    }\n",
       "</style>\n",
       "<table border=\"1\" class=\"dataframe\">\n",
       "  <thead>\n",
       "    <tr style=\"text-align: right;\">\n",
       "      <th></th>\n",
       "      <th>trial</th>\n",
       "      <th>img session</th>\n",
       "      <th>start frame</th>\n",
       "      <th>end frame</th>\n",
       "      <th>correct</th>\n",
       "    </tr>\n",
       "  </thead>\n",
       "  <tbody>\n",
       "    <tr>\n",
       "      <th>0</th>\n",
       "      <td>1</td>\n",
       "      <td>1</td>\n",
       "      <td>-56</td>\n",
       "      <td>236</td>\n",
       "      <td>1</td>\n",
       "    </tr>\n",
       "    <tr>\n",
       "      <th>1</th>\n",
       "      <td>2</td>\n",
       "      <td>1</td>\n",
       "      <td>335</td>\n",
       "      <td>485</td>\n",
       "      <td>0</td>\n",
       "    </tr>\n",
       "    <tr>\n",
       "      <th>2</th>\n",
       "      <td>3</td>\n",
       "      <td>1</td>\n",
       "      <td>806</td>\n",
       "      <td>1072</td>\n",
       "      <td>1</td>\n",
       "    </tr>\n",
       "    <tr>\n",
       "      <th>3</th>\n",
       "      <td>4</td>\n",
       "      <td>1</td>\n",
       "      <td>1172</td>\n",
       "      <td>1365</td>\n",
       "      <td>1</td>\n",
       "    </tr>\n",
       "    <tr>\n",
       "      <th>4</th>\n",
       "      <td>5</td>\n",
       "      <td>1</td>\n",
       "      <td>1460</td>\n",
       "      <td>1649</td>\n",
       "      <td>1</td>\n",
       "    </tr>\n",
       "    <tr>\n",
       "      <th>...</th>\n",
       "      <td>...</td>\n",
       "      <td>...</td>\n",
       "      <td>...</td>\n",
       "      <td>...</td>\n",
       "      <td>...</td>\n",
       "    </tr>\n",
       "    <tr>\n",
       "      <th>25</th>\n",
       "      <td>226</td>\n",
       "      <td>8</td>\n",
       "      <td>7030</td>\n",
       "      <td>7200</td>\n",
       "      <td>1</td>\n",
       "    </tr>\n",
       "    <tr>\n",
       "      <th>26</th>\n",
       "      <td>227</td>\n",
       "      <td>8</td>\n",
       "      <td>7294</td>\n",
       "      <td>7488</td>\n",
       "      <td>0</td>\n",
       "    </tr>\n",
       "    <tr>\n",
       "      <th>27</th>\n",
       "      <td>228</td>\n",
       "      <td>8</td>\n",
       "      <td>7809</td>\n",
       "      <td>7967</td>\n",
       "      <td>1</td>\n",
       "    </tr>\n",
       "    <tr>\n",
       "      <th>28</th>\n",
       "      <td>229</td>\n",
       "      <td>8</td>\n",
       "      <td>8061</td>\n",
       "      <td>8243</td>\n",
       "      <td>1</td>\n",
       "    </tr>\n",
       "    <tr>\n",
       "      <th>29</th>\n",
       "      <td>230</td>\n",
       "      <td>8</td>\n",
       "      <td>8360</td>\n",
       "      <td>8546</td>\n",
       "      <td>1</td>\n",
       "    </tr>\n",
       "  </tbody>\n",
       "</table>\n",
       "<p>230 rows × 5 columns</p>\n",
       "</div>"
      ],
      "text/plain": [
       "    trial  img session  start frame  end frame  correct\n",
       "0       1            1          -56        236        1\n",
       "1       2            1          335        485        0\n",
       "2       3            1          806       1072        1\n",
       "3       4            1         1172       1365        1\n",
       "4       5            1         1460       1649        1\n",
       "..    ...          ...          ...        ...      ...\n",
       "25    226            8         7030       7200        1\n",
       "26    227            8         7294       7488        0\n",
       "27    228            8         7809       7967        1\n",
       "28    229            8         8061       8243        1\n",
       "29    230            8         8360       8546        1\n",
       "\n",
       "[230 rows x 5 columns]"
      ]
     },
     "execution_count": 114,
     "metadata": {},
     "output_type": "execute_result"
    }
   ],
   "source": [
    "All_data"
   ]
  },
  {
   "cell_type": "code",
   "execution_count": null,
   "id": "10ab2c3c",
   "metadata": {},
   "outputs": [],
   "source": []
  }
 ],
 "metadata": {
  "kernelspec": {
   "display_name": "Python 3 (ipykernel)",
   "language": "python",
   "name": "python3"
  },
  "language_info": {
   "codemirror_mode": {
    "name": "ipython",
    "version": 3
   },
   "file_extension": ".py",
   "mimetype": "text/x-python",
   "name": "python",
   "nbconvert_exporter": "python",
   "pygments_lexer": "ipython3",
   "version": "3.9.12"
  }
 },
 "nbformat": 4,
 "nbformat_minor": 5
}
