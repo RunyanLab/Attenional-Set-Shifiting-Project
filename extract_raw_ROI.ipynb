{
 "cells": [
  {
   "cell_type": "code",
   "execution_count": 1,
   "id": "f5adc1bb",
   "metadata": {},
   "outputs": [],
   "source": [
    "#extracts the raw ROI & outputs z-scored and smooth ROI activity "
   ]
  },
  {
   "cell_type": "code",
   "execution_count": 1,
   "id": "28ddfe73",
   "metadata": {},
   "outputs": [],
   "source": [
    "from wfield import *\n",
    "import os \n",
    "import h5py\n",
    "import pandas as pd\n",
    "from scipy.io import loadmat\n",
    "from scipy.signal import savgol_filter"
   ]
  },
  {
   "cell_type": "code",
   "execution_count": 2,
   "id": "c98da558",
   "metadata": {},
   "outputs": [],
   "source": [
    "directory = \"C:/Behavior/Animals/\"\n",
    "animal = \"FV-4/\"\n",
    "maze = \"SD/\"\n",
    "session = \"12-Jul-2022/\"\n",
    "file = \"{}\""
   ]
  },
  {
   "cell_type": "code",
   "execution_count": 3,
   "id": "d6556645",
   "metadata": {},
   "outputs": [],
   "source": [
    "def extract_raw_ROI(img_session):\n",
    "    path = os.path.join(directory, animal, maze, session, file.format(img_session))\n",
    "    os.chdir(path)\n",
    "    print(path)\n",
    "    U = np.load('U.npy')\n",
    "    SVT = np.load('SVTcorr.npy')\n",
    "    stack = SVDStack(U,SVT)\n",
    "    lmarks = load_allen_landmarks('dorsal_cortex_landmarks.json')\n",
    "\n",
    "    ccf_regions_reference,proj,brain_outline = allen_load_reference('dorsal_cortex')\n",
    "    # the reference is in allen CCF space and needs to be converted\n",
    "    # this converts to warped image space (accounting for the transformation)\n",
    "    ccf_regions = allen_transform_regions(None,ccf_regions_reference,\n",
    "                                          resolution = lmarks['resolution'],\n",
    "                                            bregma_offset = lmarks['bregma_offset'])\n",
    "    atlas, areanames, brain_mask = atlas_from_landmarks_file('dorsal_cortex_landmarks.json') # this loads the atlas in transformed coords\n",
    "\n",
    "    # this does the transform (warps the original images)\n",
    "    #stack.set_warped(1, M = lmarks['transform']) # this warps the spatial components in the stack\n",
    "    \n",
    "    # this converts the reference to image space (unwarped)\n",
    "    atlas_im, areanames, brain_mask = atlas_from_landmarks_file('dorsal_cortex_landmarks.json',do_transform = True) # this loads the untransformed atlas\n",
    "    ccf_regions_im = allen_transform_regions(lmarks['transform'],ccf_regions_reference,\n",
    "                                            resolution = lmarks['resolution'],\n",
    "                                            bregma_offset = lmarks['bregma_offset'])\n",
    "    \n",
    "    stack.set_warped(True) # once this is done once the transform is set and you can alternate between the 2 modes.\n",
    "    activityR = []\n",
    "    activityL = []\n",
    "    for area in range(33):\n",
    "        right = stack.get_timecourse(np.where(atlas == area)).mean(axis = 0)\n",
    "        left = stack.get_timecourse(np.where(atlas == -area)).mean(axis = 0)\n",
    "        activityR.append(right)\n",
    "        activityL.append(left)\n",
    "    \n",
    "    #save activity matrices for easier access \n",
    "\n",
    "    np.save('activityR', activityR)\n",
    "    np.save('activityL', activityL)"
   ]
  },
  {
   "cell_type": "code",
   "execution_count": 4,
   "id": "4b3fc7a0",
   "metadata": {},
   "outputs": [],
   "source": [
    "def zscore(x, window):\n",
    "    r = x.rolling(window=window)\n",
    "    m = r.mean().shift(1)\n",
    "    s = r.std(ddof=0).shift(1)\n",
    "    z = (x-m)/s\n",
    "    return z"
   ]
  },
  {
   "cell_type": "code",
   "execution_count": 5,
   "id": "95eaade6",
   "metadata": {},
   "outputs": [],
   "source": [
    "def z_score_smooth(img_session):\n",
    "    file = \"{}\"\n",
    "    path = os.path.join(directory, animal, maze, session, file.format(img_session))\n",
    "    print(path)\n",
    "    os.chdir(path)\n",
    "    #load activity matrices\n",
    "    activityR = np.load('activityR.npy')\n",
    "    activityL = np.load('activityL.npy')\n",
    "    \n",
    "    activityR_zscored = []\n",
    "    activityR = np.load('activityR.npy')\n",
    "\n",
    "    for area in range(33):\n",
    "        activityR_series = pd.Series(activityR[area])\n",
    "        x = zscore(activityR_series, 150)\n",
    "        activityR_zscored.append(x.to_numpy())\n",
    "    \n",
    "    activityL_zscored = []\n",
    "    activityL = np.load('activityL.npy')\n",
    "\n",
    "    for area in range(33):\n",
    "        activityL_series = pd.Series(activityL[area])\n",
    "        x = zscore(activityL_series, 150)\n",
    "        activityL_zscored.append(x.to_numpy())\n",
    "    \n",
    "    activityR_zscore_smooth = savgol_filter(activityR_zscored, 6, 1) #Applies a Savitzky-Golay filter to the z-scored array.\n",
    "    activityL_zscore_smooth = savgol_filter(activityL_zscored, 6, 1)\n",
    "    \n",
    "    #save activity matrices for easier access \n",
    "    np.save('activityR_zscored', activityR_zscored)\n",
    "    np.save('activityL_zscored', activityL_zscored)"
   ]
  },
  {
   "cell_type": "code",
   "execution_count": 6,
   "id": "45006ff1",
   "metadata": {},
   "outputs": [
    {
     "name": "stdout",
     "output_type": "stream",
     "text": [
      "C:/Behavior/Animals/FV-4/SD/12-Jul-2022/1\n",
      "C:/Behavior/Animals/FV-4/SD/12-Jul-2022/1\n"
     ]
    }
   ],
   "source": [
    "extract_raw_ROI(1)\n",
    "z_score_smooth(1)"
   ]
  },
  {
   "cell_type": "code",
   "execution_count": 7,
   "id": "eee72c5e",
   "metadata": {},
   "outputs": [
    {
     "name": "stdout",
     "output_type": "stream",
     "text": [
      "C:/Behavior/Animals/FV-4/SD/12-Jul-2022/2\n",
      "C:/Behavior/Animals/FV-4/SD/12-Jul-2022/2\n"
     ]
    }
   ],
   "source": [
    "extract_raw_ROI(2)\n",
    "z_score_smooth(2)"
   ]
  },
  {
   "cell_type": "code",
   "execution_count": 8,
   "id": "93eb1531",
   "metadata": {},
   "outputs": [
    {
     "name": "stdout",
     "output_type": "stream",
     "text": [
      "C:/Behavior/Animals/FV-4/SD/12-Jul-2022/3\n",
      "C:/Behavior/Animals/FV-4/SD/12-Jul-2022/3\n"
     ]
    }
   ],
   "source": [
    "extract_raw_ROI(3)\n",
    "z_score_smooth(3)"
   ]
  },
  {
   "cell_type": "code",
   "execution_count": 9,
   "id": "67b9a156",
   "metadata": {},
   "outputs": [
    {
     "name": "stdout",
     "output_type": "stream",
     "text": [
      "C:/Behavior/Animals/FV-4/SD/12-Jul-2022/4\n",
      "C:/Behavior/Animals/FV-4/SD/12-Jul-2022/4\n"
     ]
    }
   ],
   "source": [
    "extract_raw_ROI(4)\n",
    "z_score_smooth(4)"
   ]
  },
  {
   "cell_type": "code",
   "execution_count": 10,
   "id": "d2d6fd91",
   "metadata": {},
   "outputs": [
    {
     "name": "stdout",
     "output_type": "stream",
     "text": [
      "C:/Behavior/Animals/FV-4/SD/12-Jul-2022/5\n",
      "C:/Behavior/Animals/FV-4/SD/12-Jul-2022/5\n"
     ]
    }
   ],
   "source": [
    "extract_raw_ROI(5)\n",
    "z_score_smooth(5)"
   ]
  },
  {
   "cell_type": "code",
   "execution_count": 11,
   "id": "8ac50f33",
   "metadata": {},
   "outputs": [
    {
     "name": "stdout",
     "output_type": "stream",
     "text": [
      "C:/Behavior/Animals/FV-4/SD/12-Jul-2022/6\n",
      "C:/Behavior/Animals/FV-4/SD/12-Jul-2022/6\n"
     ]
    }
   ],
   "source": [
    "extract_raw_ROI(6)\n",
    "z_score_smooth(6)"
   ]
  },
  {
   "cell_type": "code",
   "execution_count": 12,
   "id": "97e30b9e",
   "metadata": {},
   "outputs": [
    {
     "name": "stdout",
     "output_type": "stream",
     "text": [
      "C:/Behavior/Animals/FV-4/SD/12-Jul-2022/7\n",
      "C:/Behavior/Animals/FV-4/SD/12-Jul-2022/7\n"
     ]
    }
   ],
   "source": [
    "extract_raw_ROI(7)\n",
    "z_score_smooth(7)"
   ]
  },
  {
   "cell_type": "code",
   "execution_count": 13,
   "id": "31eb3d81",
   "metadata": {},
   "outputs": [
    {
     "name": "stdout",
     "output_type": "stream",
     "text": [
      "C:/Behavior/Animals/FV-4/SD/12-Jul-2022/8\n",
      "C:/Behavior/Animals/FV-4/SD/12-Jul-2022/8\n"
     ]
    }
   ],
   "source": [
    "extract_raw_ROI(8)\n",
    "z_score_smooth(8)"
   ]
  },
  {
   "cell_type": "code",
   "execution_count": 14,
   "id": "41a9266f",
   "metadata": {},
   "outputs": [
    {
     "name": "stdout",
     "output_type": "stream",
     "text": [
      "C:/Behavior/Animals/FV-4/SD/12-Jul-2022/9\n",
      "C:/Behavior/Animals/FV-4/SD/12-Jul-2022/9\n"
     ]
    }
   ],
   "source": [
    "extract_raw_ROI(9)\n",
    "z_score_smooth(9)"
   ]
  },
  {
   "cell_type": "code",
   "execution_count": null,
   "id": "a8f3322b",
   "metadata": {},
   "outputs": [],
   "source": []
  }
 ],
 "metadata": {
  "kernelspec": {
   "display_name": "Python 3 (ipykernel)",
   "language": "python",
   "name": "python3"
  },
  "language_info": {
   "codemirror_mode": {
    "name": "ipython",
    "version": 3
   },
   "file_extension": ".py",
   "mimetype": "text/x-python",
   "name": "python",
   "nbconvert_exporter": "python",
   "pygments_lexer": "ipython3",
   "version": "3.9.12"
  }
 },
 "nbformat": 4,
 "nbformat_minor": 5
}
