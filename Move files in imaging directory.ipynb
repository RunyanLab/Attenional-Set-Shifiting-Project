{
 "cells": [
  {
   "cell_type": "code",
   "execution_count": 1,
   "id": "82134c94",
   "metadata": {},
   "outputs": [
    {
     "name": "stdout",
     "output_type": "stream",
     "text": [
      "C:/Behavior/Animals/FV-4/IDS/17-Jul-2022\n"
     ]
    }
   ],
   "source": [
    "import os \n",
    "\n",
    "directory = \"C:/Behavior/Animals/\"\n",
    "animal = \"FV-4/\"\n",
    "maze = \"IDS/\"\n",
    "session = \"17-Jul-2022\"\n",
    "\n",
    "path = os.path.join(directory, animal, maze, session)\n",
    "os.chdir(path)\n",
    "print(path)"
   ]
  },
  {
   "cell_type": "code",
   "execution_count": 2,
   "id": "f8258277",
   "metadata": {},
   "outputs": [],
   "source": [
    "for i in [1,2,3,4,5,6,7,8,9]:\n",
    "    final_directory = os.path.join(path, r'{}').format(i)\n",
    "    if not os.path.exists(final_directory):\n",
    "        os.makedirs(final_directory)"
   ]
  },
  {
   "cell_type": "code",
   "execution_count": null,
   "id": "4abc3013",
   "metadata": {},
   "outputs": [],
   "source": []
  }
 ],
 "metadata": {
  "kernelspec": {
   "display_name": "Python 3 (ipykernel)",
   "language": "python",
   "name": "python3"
  },
  "language_info": {
   "codemirror_mode": {
    "name": "ipython",
    "version": 3
   },
   "file_extension": ".py",
   "mimetype": "text/x-python",
   "name": "python",
   "nbconvert_exporter": "python",
   "pygments_lexer": "ipython3",
   "version": "3.9.12"
  }
 },
 "nbformat": 4,
 "nbformat_minor": 5
}
